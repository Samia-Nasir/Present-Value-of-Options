{
 "cells": [
  {
   "cell_type": "markdown",
   "metadata": {},
   "source": [
    "### Question\n",
    "The trades file contains trade economics for two options and the task is to calculate the present value for each of them using standard models. Some guidelines:\n",
    "\n",
    "We suggest you to write a python script to solve this.\n",
    "\n",
    "•\tPrice it with Mark-to-market date 2021-08-31, which basically means calculate the present value on 2021-08-31 (the market data should be assumed to be closing prices for that date).\n",
    "\n",
    "•\tThe trades file contains a column “daycount_convention” which might not be familiar. Here the use case is to calculate how many years (or what fraction of a year) there is between two dates. For example, day count convention 30/360 treats a month as 30 days and a year as 360 days which means that \n",
    "\n",
    "o\tBetween 2021-05-31 and 2021-08-31 it is 3 * 30 / 360 = 0.25 years.\n",
    "\n",
    "o\tBetween 2021-01-31 and 2021-03-31 it is 2 * 30 / 360 = 1/6 years.\n",
    "\n",
    "o\tBetween 2021-01-31 and 2022-05-31 it is (1 * 360 + 4 * 30) / 360 = 4/3 years.\n"
   ]
  },
  {
   "cell_type": "markdown",
   "metadata": {},
   "source": [
    "### Option\n",
    "An option is a contract that gives the holder, the right but not obligation to buy or sell an underlying asset at a specified price.\n",
    "\n",
    "$1$) Call Option: an option that gives the right, but not the obligation, to buy the underlying asset at a predetermined price.\n",
    "\n",
    "\n",
    "$2)$ Put option: an option that gives the right, but not the obligation, to sell the underlying asset at a predetermined price. "
   ]
  },
  {
   "cell_type": "markdown",
   "metadata": {},
   "source": [
    "## Option Pricing Models"
   ]
  },
  {
   "cell_type": "markdown",
   "metadata": {},
   "source": [
    "The mathematical models use certain variables to calculate the theoretical value of an option. The theoretical value of an option is an estimate of what an option should be worth using all known inputs.\n",
    "\n",
    "\n",
    "Options may also be classified according to their exercise time:\n",
    "\n",
    "1) European style options may be exercised only at the expiration date.\n",
    "\n",
    "\n",
    "2) American style options can be exercised anytime between purchase and expiration date.\n",
    "\n",
    "### Models\n",
    "1) Black-Scholes Model\n",
    "\n",
    "2) Binomial Option Pricing Model\n",
    "\n",
    "\n",
    "\n"
   ]
  },
  {
   "cell_type": "markdown",
   "metadata": {},
   "source": [
    "### Given Data"
   ]
  },
  {
   "cell_type": "code",
   "execution_count": 1,
   "metadata": {},
   "outputs": [
    {
     "data": {
      "text/html": [
       "<div>\n",
       "<style scoped>\n",
       "    .dataframe tbody tr th:only-of-type {\n",
       "        vertical-align: middle;\n",
       "    }\n",
       "\n",
       "    .dataframe tbody tr th {\n",
       "        vertical-align: top;\n",
       "    }\n",
       "\n",
       "    .dataframe thead th {\n",
       "        text-align: right;\n",
       "    }\n",
       "</style>\n",
       "<table border=\"1\" class=\"dataframe\">\n",
       "  <thead>\n",
       "    <tr style=\"text-align: right;\">\n",
       "      <th></th>\n",
       "      <th>date</th>\n",
       "      <th>trade_id</th>\n",
       "      <th>counterparty</th>\n",
       "      <th>asset_class</th>\n",
       "      <th>instrument_type</th>\n",
       "      <th>option_type</th>\n",
       "      <th>option_style</th>\n",
       "      <th>underlying</th>\n",
       "      <th>strike</th>\n",
       "      <th>currency</th>\n",
       "      <th>exercise_date</th>\n",
       "      <th>daycount_convention</th>\n",
       "    </tr>\n",
       "  </thead>\n",
       "  <tbody>\n",
       "    <tr>\n",
       "      <td>0</td>\n",
       "      <td>2021-08-31</td>\n",
       "      <td>equity_option</td>\n",
       "      <td>Bank 1</td>\n",
       "      <td>equity</td>\n",
       "      <td>option</td>\n",
       "      <td>CALL</td>\n",
       "      <td>VANILLA</td>\n",
       "      <td>ABB</td>\n",
       "      <td>330</td>\n",
       "      <td>SEK</td>\n",
       "      <td>2021-12-31</td>\n",
       "      <td>30/360</td>\n",
       "    </tr>\n",
       "    <tr>\n",
       "      <td>1</td>\n",
       "      <td>2021-08-31</td>\n",
       "      <td>commodity_option</td>\n",
       "      <td>Bank 2</td>\n",
       "      <td>commodity</td>\n",
       "      <td>option</td>\n",
       "      <td>PUT</td>\n",
       "      <td>VANILLA</td>\n",
       "      <td>Gold</td>\n",
       "      <td>1800</td>\n",
       "      <td>USD</td>\n",
       "      <td>2022-01-31</td>\n",
       "      <td>30/360</td>\n",
       "    </tr>\n",
       "  </tbody>\n",
       "</table>\n",
       "</div>"
      ],
      "text/plain": [
       "         date          trade_id counterparty asset_class instrument_type  \\\n",
       "0  2021-08-31     equity_option       Bank 1      equity          option   \n",
       "1  2021-08-31  commodity_option       Bank 2   commodity          option   \n",
       "\n",
       "  option_type option_style underlying  strike currency exercise_date  \\\n",
       "0        CALL      VANILLA        ABB     330      SEK    2021-12-31   \n",
       "1         PUT      VANILLA       Gold    1800      USD    2022-01-31   \n",
       "\n",
       "  daycount_convention  \n",
       "0              30/360  \n",
       "1              30/360  "
      ]
     },
     "execution_count": 1,
     "metadata": {},
     "output_type": "execute_result"
    }
   ],
   "source": [
    "import pandas as pd #library for data structures and operations\n",
    "trades = pd.read_csv('trades.csv')\n",
    "trades"
   ]
  },
  {
   "cell_type": "markdown",
   "metadata": {},
   "source": [
    "### Daycount Convention"
   ]
  },
  {
   "cell_type": "markdown",
   "metadata": {},
   "source": [
    "o\tBetween 2021-08-31 and 2021-12-31 it is $\\frac{4*30}{360} = \\frac{1}{3}$ years.\n",
    "\n",
    "o\tBetween 2021-08-31 and 2021-01-31 it is $\\frac{5*30}{360} = \\frac{5}{12}$ years."
   ]
  },
  {
   "cell_type": "code",
   "execution_count": 2,
   "metadata": {},
   "outputs": [
    {
     "data": {
      "text/html": [
       "<div>\n",
       "<style scoped>\n",
       "    .dataframe tbody tr th:only-of-type {\n",
       "        vertical-align: middle;\n",
       "    }\n",
       "\n",
       "    .dataframe tbody tr th {\n",
       "        vertical-align: top;\n",
       "    }\n",
       "\n",
       "    .dataframe thead th {\n",
       "        text-align: right;\n",
       "    }\n",
       "</style>\n",
       "<table border=\"1\" class=\"dataframe\">\n",
       "  <thead>\n",
       "    <tr style=\"text-align: right;\">\n",
       "      <th></th>\n",
       "      <th>date</th>\n",
       "      <th>asset_class</th>\n",
       "      <th>currency</th>\n",
       "      <th>foreign_currency</th>\n",
       "      <th>name</th>\n",
       "      <th>spot value</th>\n",
       "      <th>volatilty</th>\n",
       "      <th>comment</th>\n",
       "    </tr>\n",
       "  </thead>\n",
       "  <tbody>\n",
       "    <tr>\n",
       "      <td>0</td>\n",
       "      <td>2021-08-31</td>\n",
       "      <td>FX</td>\n",
       "      <td>SEK</td>\n",
       "      <td>USD</td>\n",
       "      <td>NaN</td>\n",
       "      <td>8.580</td>\n",
       "      <td>NaN</td>\n",
       "      <td>fx spot rate to convert from USD to SEK</td>\n",
       "    </tr>\n",
       "    <tr>\n",
       "      <td>1</td>\n",
       "      <td>2021-08-31</td>\n",
       "      <td>FX</td>\n",
       "      <td>USD</td>\n",
       "      <td>EUR</td>\n",
       "      <td>NaN</td>\n",
       "      <td>1.190</td>\n",
       "      <td>NaN</td>\n",
       "      <td>fx spot rate</td>\n",
       "    </tr>\n",
       "    <tr>\n",
       "      <td>2</td>\n",
       "      <td>2021-08-31</td>\n",
       "      <td>FX</td>\n",
       "      <td>EUR</td>\n",
       "      <td>GBP</td>\n",
       "      <td>NaN</td>\n",
       "      <td>1.170</td>\n",
       "      <td>NaN</td>\n",
       "      <td>fx spot rate</td>\n",
       "    </tr>\n",
       "    <tr>\n",
       "      <td>3</td>\n",
       "      <td>2021-08-31</td>\n",
       "      <td>IR</td>\n",
       "      <td>EUR</td>\n",
       "      <td>NaN</td>\n",
       "      <td>NaN</td>\n",
       "      <td>0.015</td>\n",
       "      <td>NaN</td>\n",
       "      <td>constant annual interest rate, continuously co...</td>\n",
       "    </tr>\n",
       "    <tr>\n",
       "      <td>4</td>\n",
       "      <td>2021-08-31</td>\n",
       "      <td>IR</td>\n",
       "      <td>SEK</td>\n",
       "      <td>NaN</td>\n",
       "      <td>NaN</td>\n",
       "      <td>0.010</td>\n",
       "      <td>NaN</td>\n",
       "      <td>constant annual interest rate, continuously co...</td>\n",
       "    </tr>\n",
       "    <tr>\n",
       "      <td>5</td>\n",
       "      <td>2021-08-31</td>\n",
       "      <td>IR</td>\n",
       "      <td>USD</td>\n",
       "      <td>NaN</td>\n",
       "      <td>NaN</td>\n",
       "      <td>0.020</td>\n",
       "      <td>NaN</td>\n",
       "      <td>constant annual interest rate, continuously co...</td>\n",
       "    </tr>\n",
       "    <tr>\n",
       "      <td>6</td>\n",
       "      <td>2021-08-31</td>\n",
       "      <td>IR</td>\n",
       "      <td>GBP</td>\n",
       "      <td>NaN</td>\n",
       "      <td>NaN</td>\n",
       "      <td>0.250</td>\n",
       "      <td>NaN</td>\n",
       "      <td>constant annual interest rate, continuously co...</td>\n",
       "    </tr>\n",
       "    <tr>\n",
       "      <td>7</td>\n",
       "      <td>2021-08-31</td>\n",
       "      <td>EQUITY</td>\n",
       "      <td>SEK</td>\n",
       "      <td>NaN</td>\n",
       "      <td>ABB</td>\n",
       "      <td>322.000</td>\n",
       "      <td>0.11</td>\n",
       "      <td>NaN</td>\n",
       "    </tr>\n",
       "    <tr>\n",
       "      <td>8</td>\n",
       "      <td>2021-08-31</td>\n",
       "      <td>EQUITY</td>\n",
       "      <td>USD</td>\n",
       "      <td>NaN</td>\n",
       "      <td>Apple</td>\n",
       "      <td>152.720</td>\n",
       "      <td>0.23</td>\n",
       "      <td>NaN</td>\n",
       "    </tr>\n",
       "    <tr>\n",
       "      <td>9</td>\n",
       "      <td>2021-08-31</td>\n",
       "      <td>EQUITY</td>\n",
       "      <td>NaN</td>\n",
       "      <td>NaN</td>\n",
       "      <td>NaN</td>\n",
       "      <td>NaN</td>\n",
       "      <td>NaN</td>\n",
       "      <td>NaN</td>\n",
       "    </tr>\n",
       "    <tr>\n",
       "      <td>10</td>\n",
       "      <td>2021-08-31</td>\n",
       "      <td>COMMODITY</td>\n",
       "      <td>USD</td>\n",
       "      <td>NaN</td>\n",
       "      <td>Gold</td>\n",
       "      <td>1809.680</td>\n",
       "      <td>0.14</td>\n",
       "      <td>NaN</td>\n",
       "    </tr>\n",
       "    <tr>\n",
       "      <td>11</td>\n",
       "      <td>2021-08-31</td>\n",
       "      <td>COMMODITY</td>\n",
       "      <td>USD</td>\n",
       "      <td>NaN</td>\n",
       "      <td>Silver</td>\n",
       "      <td>23.900</td>\n",
       "      <td>0.26</td>\n",
       "      <td>NaN</td>\n",
       "    </tr>\n",
       "    <tr>\n",
       "      <td>12</td>\n",
       "      <td>2021-08-31</td>\n",
       "      <td>COMMODITY</td>\n",
       "      <td>USD</td>\n",
       "      <td>NaN</td>\n",
       "      <td>Brent Crude</td>\n",
       "      <td>72.170</td>\n",
       "      <td>0.15</td>\n",
       "      <td>NaN</td>\n",
       "    </tr>\n",
       "  </tbody>\n",
       "</table>\n",
       "</div>"
      ],
      "text/plain": [
       "          date asset_class currency foreign_currency         name  spot value  \\\n",
       "0   2021-08-31          FX      SEK              USD          NaN       8.580   \n",
       "1   2021-08-31          FX      USD              EUR          NaN       1.190   \n",
       "2   2021-08-31          FX      EUR              GBP          NaN       1.170   \n",
       "3   2021-08-31          IR      EUR              NaN          NaN       0.015   \n",
       "4   2021-08-31          IR      SEK              NaN          NaN       0.010   \n",
       "5   2021-08-31          IR      USD              NaN          NaN       0.020   \n",
       "6   2021-08-31          IR      GBP              NaN          NaN       0.250   \n",
       "7   2021-08-31      EQUITY      SEK              NaN          ABB     322.000   \n",
       "8   2021-08-31      EQUITY      USD              NaN        Apple     152.720   \n",
       "9   2021-08-31      EQUITY      NaN              NaN          NaN         NaN   \n",
       "10  2021-08-31   COMMODITY      USD              NaN         Gold    1809.680   \n",
       "11  2021-08-31   COMMODITY      USD              NaN       Silver      23.900   \n",
       "12  2021-08-31   COMMODITY      USD              NaN  Brent Crude      72.170   \n",
       "\n",
       "    volatilty                                            comment  \n",
       "0         NaN            fx spot rate to convert from USD to SEK  \n",
       "1         NaN                                       fx spot rate  \n",
       "2         NaN                                       fx spot rate  \n",
       "3         NaN  constant annual interest rate, continuously co...  \n",
       "4         NaN  constant annual interest rate, continuously co...  \n",
       "5         NaN  constant annual interest rate, continuously co...  \n",
       "6         NaN  constant annual interest rate, continuously co...  \n",
       "7        0.11                                                NaN  \n",
       "8        0.23                                                NaN  \n",
       "9         NaN                                                NaN  \n",
       "10       0.14                                                NaN  \n",
       "11       0.26                                                NaN  \n",
       "12       0.15                                                NaN  "
      ]
     },
     "execution_count": 2,
     "metadata": {},
     "output_type": "execute_result"
    }
   ],
   "source": [
    "market_data = pd.read_csv('market_data.csv')\n",
    "market_data"
   ]
  },
  {
   "cell_type": "markdown",
   "metadata": {},
   "source": [
    "### Pricing a plain Vanilla Call Option with Black-Scholes Model"
   ]
  },
  {
   "cell_type": "markdown",
   "metadata": {},
   "source": [
    "We are pricing a plain vanilla call option, no dividends, so the Black-Scholes option pricing formula is given as:\n",
    "\n",
    "$$C = S_0N(d_1)-Ke^{-rT}N(d_2)$$\n",
    "\n",
    "$Ke^{-rT}$ is the present value of strike price using a continuously compounded interest rate and the formula for plain vanilla put option is:\n",
    "\n",
    "$$P = Ke^{-rT}N(-d_2)-S_0N(-d_1)$$\n",
    "\n",
    "where $S_0$ is the stock price, $K$ is the strike price, $r$ is the risk-free interest rate, $T$ is time to maturity, $N(\\cdot)$ is a normal distribution function.\n",
    "\n",
    "$d_1$ and $d_2$ are calculated as\n",
    "\n",
    "$$ d_1 =\\frac{log(S_0/K)+ (r+0.5\\sigma^2)T}{\\sigma \\sqrt{T}},\\qquad $$\n",
    "\n",
    "$$ d_2 = d_1-\\sigma \\sqrt{T}$$\n",
    "\n",
    "We will solve for $d_2$ by using $d_1$\n",
    "$$ d_2 = d_1-\\sigma \\sqrt{T}$$\n",
    "\n",
    "$$d_2 =\\frac{log(S_0/K)+ (r+0.5\\sigma^2)T}{\\sigma \\sqrt{T}} -\\sigma \\sqrt{T}$$\n",
    "\n",
    "$$d_2 =\\frac{log(S_0/K)+ (r+0.5\\sigma^2)T -\\sigma^2 T}{\\sigma \\sqrt{T}} $$\n",
    "\n",
    "$$d_2 =\\frac{log(S_0/K)+ rT+0.5\\sigma^2T-\\sigma^2 T}{\\sigma \\sqrt{T}} $$\n",
    "\n",
    "$$d_2 =\\frac{log(S_0/K)+ (r-0.5\\sigma^2)T}{\\sigma \\sqrt{T}} $$"
   ]
  },
  {
   "cell_type": "markdown",
   "metadata": {},
   "source": [
    "The payoff of a call option is:\n",
    "$$Max(S_0-K, 0)$$\n",
    "\n",
    "so, whenever the price of the underlying $S_0$ is above the strike price $K$, we would exercise the option because the price you can pay for the asset is lower than the current market price of the asset.\n",
    "Which means if $S_0 − K$ is positive for a call option you would be able to buy the asset for $K$ and then sell it for $S_0$, thus earning $S_0 − K$ in profit.\n",
    "\n",
    "The payoff of a put option is:\n",
    "$$Max(K-S_0, 0)$$\n",
    "\n",
    "\n",
    "The put options work in reverse to call options. A put option is in the money when the price of the underlying $S_0$ is less than the strike price $K$. This is because you can buy the shares on the market and sell them to the option writer, who has to pay you the higher strike price. \n",
    "\n",
    "If the call or put options are unprofitable, they will simply be allowed to expire without exercising, and\n",
    "thus will have a price of zero "
   ]
  },
  {
   "cell_type": "code",
   "execution_count": 3,
   "metadata": {},
   "outputs": [],
   "source": [
    "import numpy as np               #library that provides mathematical operations on arrays\n",
    "from math import log, sqrt, exp  # common math functions\n",
    "from scipy import stats          #SciPy sub-package mainly used for probabilistic distributions and statistical operations"
   ]
  },
  {
   "cell_type": "markdown",
   "metadata": {},
   "source": [
    "#### Black-Scholes Option Pricing Model pioneered by Black-Scholes-Merton (1973)\n",
    "use %load BSM_script.py to load the python script"
   ]
  },
  {
   "cell_type": "code",
   "execution_count": 1,
   "metadata": {},
   "outputs": [],
   "source": [
    "def BlackScholes(option,S0,K,T,r,sigma):\n",
    "\n",
    "    ''' Valuation of European vanilla call option in BSM model.\n",
    "    Parameters\n",
    "    ==========\n",
    "    S0    : initial stock/underlying asset price\n",
    "    K     : strike price\n",
    "    T     : maturity date (in year fractions)\n",
    "    r     : continuously compounded risk-free rate\n",
    "    sigma : volatility \n",
    "    ==========\n",
    "    Returns the present value of the European call or put option'''\n",
    "    from math import log, sqrt, exp\n",
    "    from scipy import stats\n",
    "    S0 = float(S0)\n",
    "    d1 = (log(S0 / K) + (r + 0.5 * sigma ** 2) * T) / (sigma * sqrt(T))\n",
    "    d2 = (log(S0 / K) + (r - 0.5 * sigma ** 2) * T) / (sigma * sqrt(T))\n",
    "    if option =='c':\n",
    "        return S0 * stats.norm.cdf(d1)- K * exp(-r * T) * stats.norm.cdf(d2)\n",
    "        #stats.norm.cdf — cumulative distribution function for normal distribution\n",
    "    elif option =='p':\n",
    "        return  K * exp(-r * T) * stats.norm.cdf(-d2)-S0 * stats.norm.cdf(-d1)\n",
    "    "
   ]
  },
  {
   "cell_type": "code",
   "execution_count": 2,
   "metadata": {},
   "outputs": [
    {
     "name": "stdout",
     "output_type": "stream",
     "text": [
      "Call option price using BSM is  5.2486765823815205\n"
     ]
    }
   ],
   "source": [
    "S0=322 #current stock or underlying price\n",
    "K=330 #strike price\n",
    "r=0.01 #risk free rate\n",
    "sigma=0.11 #volatility\n",
    "T=(1/3)  #time to maturity\n",
    "option = 'c'\n",
    "print(\"Call option price using BSM is \",BlackScholes(option,S0,K,T,r,sigma))"
   ]
  },
  {
   "cell_type": "code",
   "execution_count": 3,
   "metadata": {},
   "outputs": [
    {
     "name": "stdout",
     "output_type": "stream",
     "text": [
      "Put option price using BSM is  53.21048169635071\n"
     ]
    }
   ],
   "source": [
    "S0=1809.68 #current stock or underlying price\n",
    "K=1800 #strike price\n",
    "r=0.02 #risk free rate\n",
    "sigma=0.14 #volatility\n",
    "T=(5/12)  #time to maturity\n",
    "option = 'p'\n",
    "print(\"Put option price using BSM is \",BlackScholes(option,S0,K,T,r,sigma))"
   ]
  },
  {
   "cell_type": "markdown",
   "metadata": {},
   "source": [
    "#### Binomial Option Pricing Model pioneered by Cox, Ross, and Rubinstein (1979)"
   ]
  },
  {
   "cell_type": "markdown",
   "metadata": {},
   "source": [
    "Suppose an option with maturity T and strike K is to be priced, using a binomial tree with N time increments on a stock with spot price S with volatility σ when the risk free rate is r.\n",
    "\n",
    "• The stock moves up in increments of  $u = \\exp^{𝜎 \\sqrt dt}$\n",
    "\n",
    "• The stock moves down in increments of $d = \\frac {1}{u} = \\exp^{-𝜎 \\sqrt dt}$\n",
    "\n",
    "• Each time step of length is $dt = \\frac {T}{N}$\n",
    "\n",
    "• The probability of an up move is $p = \\frac{\\exp^{r × dt} - d}{(u - d)}$ \n",
    "\n",
    "• The probability of a down move is $1 - p$. \n",
    "\n",
    "European call and put options are priced at the final time step as:\n",
    "$$ E = \\exp^{-r ×dt} (O_{u}  × p_{u}  + 0_{d}  × p_{d})$$\n",
    "\n",
    "where $O_{u}, O_{d}$ are the option prices at next step after up and down move, $p_{u}$ is probability up and $p_{d}$ is probabilitity down. The discount factor is used to account for time value of money."
   ]
  },
  {
   "cell_type": "code",
   "execution_count": 4,
   "metadata": {},
   "outputs": [],
   "source": [
    "##Cox_Ross_Rubinstein binomial model\n",
    "def Cox_Ross_Rubinstein_Tree (S,K,T,r,sigma,N, option):\n",
    "    ''' Valuation of European vanilla call option in CRR model.\n",
    "    Parameters\n",
    "    ==========\n",
    "    S     : initial stock/underlying price\n",
    "    K     : strike price\n",
    "    T     : maturity date (in year fractions)\n",
    "    N     : number of binomial steps\n",
    "    r     : continuously compounding risk-free rate\n",
    "    sigma : volatility \n",
    "    ==========\n",
    "    Returns the present value of the European call or put option'''\n",
    "    import numpy as np \n",
    "    from math import sqrt, exp\n",
    "    \n",
    "    dt = T / N                   #time step of length\n",
    "    u=exp(sigma*sqrt(dt))        #up factor\n",
    "    d=exp(-sigma*sqrt(dt))       #down factor\n",
    "    pu=((exp(r*dt))-d)/(u-d)     #probability of a price rise\n",
    "    pd=1-pu                      #probability of a price fall\n",
    "    df=exp(-r*dt)                #discount rate\n",
    "\n",
    "    St = np.zeros((N+1))         #an array of 0, size N+ 1,[0, 0, 0], to save stock prices\n",
    "    C = np.zeros((N+1))          #an array of zeros to save option price\n",
    "    St[0]=S*d**N                 #stock price * down factor^number of steps= 322*(0.98^10)=263.4,save at index[0] \n",
    "\n",
    "    #for loop to fill array St,  start from 1 and end at 2\n",
    "    for j in range(1, N+1): \n",
    "        St[j] = St[j-1] * u/d    #save the values,starting from index 1 to N+1, we will have 2 values\n",
    "        \n",
    "    # payoff for options \n",
    "    for j in range(1, N+1):\n",
    "        if option   == 'c':\n",
    "            C[j] = max(St[j]-K,0) #max(S0-K,0)\n",
    "        elif option == 'p':\n",
    "            C[j] = max(K-St[j],0) #max(K-S0,0)\n",
    "            \n",
    "    #loop start from 2 and end at 1 if N= 2\n",
    "    for i in range(N, 0, -1):\n",
    "        #loop start from 0 and end at 1\n",
    "        for j in range(0, i):\n",
    "            C[j] = df*(pu*C[j+1]+pd*C[j])\n",
    "                      \n",
    "    return C[0]\n"
   ]
  },
  {
   "cell_type": "code",
   "execution_count": 5,
   "metadata": {},
   "outputs": [
    {
     "name": "stdout",
     "output_type": "stream",
     "text": [
      "Call option price using CRR is  5.710239512306439\n"
     ]
    }
   ],
   "source": [
    "S=322 #current stock or underlying price\n",
    "K=330 #strike price\n",
    "r=0.01 #risk free rate\n",
    "sigma=0.11 #volatility\n",
    "T=(1/3)  #time to maturity\n",
    "N=2\n",
    "option = 'c'\n",
    "print(\"Call option price using CRR is \",Cox_Ross_Rubinstein_Tree (S,K,T,r,sigma,N, option))"
   ]
  },
  {
   "cell_type": "code",
   "execution_count": 6,
   "metadata": {},
   "outputs": [
    {
     "name": "stdout",
     "output_type": "stream",
     "text": [
      "Put option price using CRR is  52.29811264327736\n"
     ]
    }
   ],
   "source": [
    "S=1809.68 #current stock or underlying price\n",
    "K=1800 #strike price\n",
    "r=0.02 #risk free rate\n",
    "sigma=0.14 #volatility\n",
    "T=(5/12)  #time to maturity\n",
    "option = 'p' \n",
    "N = 10\n",
    "print(\"Put option price using CRR is \",Cox_Ross_Rubinstein_Tree (S,K,T,r,sigma,N, option))"
   ]
  },
  {
   "cell_type": "code",
   "execution_count": null,
   "metadata": {},
   "outputs": [],
   "source": []
  },
  {
   "cell_type": "code",
   "execution_count": null,
   "metadata": {},
   "outputs": [],
   "source": []
  }
 ],
 "metadata": {
  "kernelspec": {
   "display_name": "Python 3",
   "language": "python",
   "name": "python3"
  },
  "language_info": {
   "codemirror_mode": {
    "name": "ipython",
    "version": 3
   },
   "file_extension": ".py",
   "mimetype": "text/x-python",
   "name": "python",
   "nbconvert_exporter": "python",
   "pygments_lexer": "ipython3",
   "version": "3.7.4"
  }
 },
 "nbformat": 4,
 "nbformat_minor": 2
}
